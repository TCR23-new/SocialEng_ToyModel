{
 "cells": [
  {
   "cell_type": "code",
   "execution_count": null,
   "id": "3b171254-ce25-4200-87e8-75a34c9e856a",
   "metadata": {},
   "outputs": [],
   "source": [
    "# import employee class\n",
    "from DataGenerator import DataExtraction,TrainModel,Employee,DatasetBuilder"
   ]
  },
  {
   "cell_type": "code",
   "execution_count": null,
   "id": "1a033c38-75dc-4d23-b521-daefb2fc5636",
   "metadata": {},
   "outputs": [],
   "source": [
    "# build the dataset\n",
    "filename = 'SocEngExampleDataset.txt'\n",
    "NumExamples = 10000\n",
    "DatasetBuilder(NumExamples,filename)"
   ]
  },
  {
   "cell_type": "code",
   "execution_count": null,
   "id": "9b3a9d54-288b-4ac9-bae9-ff81f2cf3833",
   "metadata": {},
   "outputs": [],
   "source": [
    "# Sentiment score definition \n",
    "sent_def = {0:'negative',1:'neutral',2:'positive'}\n",
    "# load the dataset \n",
    "phrases,scores = DataExtraction(filename)"
   ]
  },
  {
   "cell_type": "code",
   "execution_count": null,
   "id": "1b452084-161a-4412-a4cd-3109610165c4",
   "metadata": {},
   "outputs": [],
   "source": [
    "# example data\n",
    "print(phrases[0])\n",
    "print('-----------')\n",
    "print('Sentiment score for the phrase {}'.format(scores[0]))"
   ]
  },
  {
   "cell_type": "code",
   "execution_count": null,
   "id": "cc922921-5696-4bfe-a33c-a7650f97470c",
   "metadata": {},
   "outputs": [],
   "source": [
    "# train the sentiment classifier\n",
    "test_model,test_vctzr = TrainModel(phrases,scores)"
   ]
  },
  {
   "cell_type": "code",
   "execution_count": null,
   "id": "1ae07c15-15db-450a-92ba-cc8a9a066507",
   "metadata": {},
   "outputs": [],
   "source": [
    "# Create an employee\n",
    "resp_prob = [[0.1,0.9], # probability of taking action/not taking action when sentiment is negative\n",
    "             [0.5,0.5], # probability of taking action/not taking action when sentiment is neutral\n",
    "             [0.9,0.1]] # probability of taking action/not taking action when sentiment is positive\n",
    "test_employee = Employee(test_model,test_vctzr,resp_prob)"
   ]
  },
  {
   "cell_type": "code",
   "execution_count": null,
   "id": "30511005-cc63-4e9f-a73e-11993048f13e",
   "metadata": {},
   "outputs": [],
   "source": [
    "# Showcase the inherited method: getMessageSentiment()\n",
    "message_sent = test_employee.getMessageSentiment(phrases[0])\n",
    "print('The messages sentiment score is {} which corresponds to a {} sentiment'.format(message_sent,sent_def[message_sent]))"
   ]
  },
  {
   "cell_type": "code",
   "execution_count": null,
   "id": "8ff5992a-189b-45bf-b4df-1aac403ca00f",
   "metadata": {},
   "outputs": [],
   "source": [
    "# Showcase the method unique to the employee class: makeDecision()\n",
    "dec_def = {0:\"Don't take action\",1:\"Take action\"}\n",
    "employee_decision = test_employee.makeDecision(phrases[0])\n",
    "print(\"The employee's decision score class is {} which correspond to: {}\".format(employee_decision,dec_def[employee_decision]))"
   ]
  },
  {
   "cell_type": "code",
   "execution_count": null,
   "id": "ccd1a8de-db08-4a8c-8f95-edfa981d0d8d",
   "metadata": {},
   "outputs": [],
   "source": [
    "# SPACE"
   ]
  },
  {
   "cell_type": "code",
   "execution_count": null,
   "id": "eb55ad4f-7689-485d-b88a-d03a67141749",
   "metadata": {},
   "outputs": [],
   "source": [
    "# Import company env class\n",
    "from TrainSocEngAgent import CompanyEnv"
   ]
  },
  {
   "cell_type": "code",
   "execution_count": null,
   "id": "2394b235-5f5e-4513-b435-dabc535ad77c",
   "metadata": {},
   "outputs": [],
   "source": [
    "# Create a company environment\n",
    "NumEmployees = 5\n",
    "comp_env = CompanyEnv(NumEmployees,test_model,test_vctzr,phrases,scores)"
   ]
  },
  {
   "cell_type": "code",
   "execution_count": null,
   "id": "9758cc1c-3a7d-4c5c-a429-6bb0fdb608ba",
   "metadata": {},
   "outputs": [],
   "source": [
    "# Show the different methods \n",
    "help(comp_env)"
   ]
  },
  {
   "cell_type": "code",
   "execution_count": null,
   "id": "60c84b1c-319b-461d-b1e6-aa1fdabcc019",
   "metadata": {},
   "outputs": [],
   "source": [
    "# highlight important variables: status, resp_prob\n",
    "print(comp_env.status)"
   ]
  },
  {
   "cell_type": "code",
   "execution_count": null,
   "id": "1d9a04e6-d75b-47a1-ab63-a500a3b4d625",
   "metadata": {},
   "outputs": [],
   "source": [
    "print(comp_env.resp_prob)"
   ]
  },
  {
   "cell_type": "code",
   "execution_count": null,
   "id": "dc66f230-d99d-4a88-9025-2642364d6082",
   "metadata": {},
   "outputs": [],
   "source": [
    "# SPACE "
   ]
  },
  {
   "cell_type": "code",
   "execution_count": null,
   "id": "6d600333-1850-4d73-abf8-72a04bebabd7",
   "metadata": {},
   "outputs": [],
   "source": [
    "# Import agent class \n",
    "from TrainSocEngAgent import Agent\n",
    "# import pytorch related functions\n",
    "import torch \n",
    "from torch import nn\n",
    "import numpy as np"
   ]
  },
  {
   "cell_type": "code",
   "execution_count": null,
   "id": "be317347-bd02-45cc-9e9a-fdbaa928384b",
   "metadata": {},
   "outputs": [],
   "source": [
    "# Create an artificial agent\n",
    "latent_dim = 100\n",
    "num_actions = 3 # (1) Send negative message, (2) Send neutral message, (3) Send positive message\n",
    "test_agent = Agent(NumEmployees,latent_dim,num_actions)"
   ]
  },
  {
   "cell_type": "code",
   "execution_count": null,
   "id": "95671b0f-e7db-4226-b952-a43662cdcf57",
   "metadata": {},
   "outputs": [],
   "source": [
    "# Print the architecture \n",
    "print(test_agent)"
   ]
  },
  {
   "cell_type": "code",
   "execution_count": null,
   "id": "deea562f-004b-4978-8b6c-dbdb78d8adbf",
   "metadata": {},
   "outputs": [],
   "source": [
    "# Generate the agent's output\n",
    "test_input = torch.tensor([0,0,1,0,1]).reshape(1,-1).float()\n",
    "state_value,behav_policy = test_agent(test_input)\n",
    "print('The value of the current state is {}'.format(state_value[0,0]))\n",
    "print('---------')\n",
    "print('the agents behavioral policy \\n')\n",
    "print(behav_policy)"
   ]
  },
  {
   "cell_type": "code",
   "execution_count": null,
   "id": "47576ac8-3c07-4b27-9711-9ec43a3843fc",
   "metadata": {},
   "outputs": [],
   "source": [
    "# Show the interaction between the agent the environment\n",
    "# reset the initial environment and get the initial state\n",
    "initial_state = comp_env.env_reset()\n",
    "print('Initial state: {}'.format(initial_state))\n",
    "# provide this state as input to the agent\n",
    "state_value,behav_policy = test_agent(torch.tensor(initial_state).reshape(1,-1).float())\n",
    "behav_policy = behav_policy.detach().numpy()\n",
    "# extract the actions for each employee\n",
    "actions = []\n",
    "for i in range(behav_policy.shape[1]):\n",
    "    tmp_action = np.random.choice([0,1,2],p=behav_policy[0,i,:])\n",
    "    actions.append(tmp_action)\n",
    "# provide the agent's actions to the environment\n",
    "next_state,reward,previous_state,actions,done = comp_env.take_action(actions)\n",
    "# print the next state\n",
    "print('reward for the actions: {}'.format(reward))\n",
    "print('Next state: {}'.format(next_state))"
   ]
  },
  {
   "cell_type": "code",
   "execution_count": null,
   "id": "a7fec726-f516-408a-afbc-4bbd9a894161",
   "metadata": {},
   "outputs": [],
   "source": [
    "# SPACE"
   ]
  },
  {
   "cell_type": "code",
   "execution_count": null,
   "id": "64ec68bd-1f2c-4725-8ac2-bfa4fad706e5",
   "metadata": {},
   "outputs": [],
   "source": [
    "# Import necessary functions\n",
    "from TrainSocEngAgent import EpisodeQueue,GatherData,train_Agent,GAMMA,STORAGE_SIZE,EPI_Q,policy_Q\n",
    "import os"
   ]
  },
  {
   "cell_type": "code",
   "execution_count": null,
   "id": "626efee1-7915-4a50-b4bb-c0c3650fe45c",
   "metadata": {},
   "outputs": [],
   "source": [
    "# Go through the training process for the agent\n",
    "# Define variables\n",
    "NumIters = 600\n",
    "NumEpisodes = 50\n",
    "NumEmployees = 3 # Note: To get convergence, you will need to increase NumIters whenever you increase the number of employees\n",
    "NumInstances = 1000\n",
    "latent_dim = 100\n",
    "num_actions = 3\n",
    "learning_rate = 1e-3\n",
    "batch_size =100\n",
    "switch_flag = False\n",
    "current_files = os.listdir()\n",
    "data_filename = 'SocialEngText.txt'\n",
    "if data_filename not in current_files:\n",
    "    print('Generating the text data')\n",
    "    DatasetBuilder(10000,data_filename)\n",
    "# Load the data\n",
    "phrases,scores = DataExtraction(data_filename)\n",
    "print('Extracted the data')\n",
    "# train the employee's sentiment classifier\n",
    "model,vctzr = TrainModel(phrases,scores)\n",
    "print('Trained the sentiment classifier')\n",
    "# Initialize the agent\n",
    "agent = Agent(NumEmployees,latent_dim,num_actions)\n",
    "opt = torch.optim.Adam(agent.parameters(),lr=learning_rate)\n",
    "# Initialize the environment\n",
    "env = CompanyEnv(NumEmployees,model,vctzr,phrases,scores)"
   ]
  },
  {
   "cell_type": "code",
   "execution_count": null,
   "id": "aee388d7-b64b-43ac-af36-373fceaceb29",
   "metadata": {},
   "outputs": [],
   "source": [
    "# Start the training process\n",
    "trn_loss,trn_perfs,tst_perfs = [],[],[]\n",
    "all_policy_data = []\n",
    "all_episode_data = []\n",
    "print('Starting the agent training process')\n",
    "for iter in range(NumIters):\n",
    "    if iter%1 == 0 and iter !=0:\n",
    "        print('Iteration {}'.format(iter))\n",
    "    if iter !=0 and iter%400 == 0 and switch_flag == True:\n",
    "        print('switching the resp probs')\n",
    "        env.reset_resp_probs()\n",
    "    # gather data\n",
    "    avg_trn_rew = GatherData(env,agent,NumEpisodes,printFlag=True)\n",
    "    trn_perfs.append(avg_trn_rew)\n",
    "    # extract episodes for use in the agent's training process\n",
    "    episodes = []\n",
    "    policy_data1 = []\n",
    "    for i in range(min(NumInstances,EPI_Q.queue_size())):\n",
    "        episodes.append(EPI_Q.dequeue())\n",
    "    for i in range(policy_Q.queue_size()):\n",
    "        policy_data1.append(policy_Q.dequeue())\n",
    "    if iter%100 == 0 and iter != 0: # 100\n",
    "        all_policy_data.append(policy_data1)\n",
    "        all_episode_data.append(episodes)\n",
    "    else:\n",
    "        policy_data1 = []\n",
    "    # train the agent\n",
    "    tr_loss = train_Agent(agent,episodes,opt,batch_size)\n",
    "    trn_loss.append(tr_loss)\n",
    "    # print('------Test Case-------')\n",
    "    avg_tst_rew = GatherData(env,agent,NumEpisodes,trainFlag = False)\n",
    "    tst_perfs.append(avg_tst_rew)\n",
    "    # print('----------------------')"
   ]
  },
  {
   "cell_type": "code",
   "execution_count": null,
   "id": "dfe4f29b-66af-441f-bf76-eda0e425e942",
   "metadata": {},
   "outputs": [],
   "source": [
    "# SPACE"
   ]
  },
  {
   "cell_type": "code",
   "execution_count": null,
   "id": "4a60b70e-3c71-4880-ba9e-59ee95ba16b8",
   "metadata": {},
   "outputs": [],
   "source": [
    "# Import visualization related functions\n",
    "from VizualizationFunctions import Feature_Scores_Plot,AgentPredictionPerEmployee,PerfOverTraining,CompanyViz,CreateConfusionMatrix\n",
    "import pickle"
   ]
  },
  {
   "cell_type": "code",
   "execution_count": null,
   "id": "894de302-0c5c-4c84-9aaa-11fbec7ae22c",
   "metadata": {},
   "outputs": [],
   "source": [
    "# Load data\n",
    "perfdata = pickle.load(open('PerfData_TestAgent.pickle','rb'))\n",
    "epidata = pickle.load(open('PolicyData_EpisodeData_overTraining.pickle','rb'))\n",
    "clfdata = pickle.load(open('SentimentClsfrTrnAndPreds.pickle','rb'))#SentimentClsfrTrnAndPreds.pickle"
   ]
  },
  {
   "cell_type": "code",
   "execution_count": null,
   "id": "434128c0-ba0d-4c9b-b636-d644d0933e73",
   "metadata": {},
   "outputs": [],
   "source": [
    "# Create employee related visualizations\n",
    "trX,tsX,trY,tsY,ypred = clfdata\n",
    "trX2 = trX.toarray()"
   ]
  },
  {
   "cell_type": "code",
   "execution_count": null,
   "id": "afdb2c5a-1415-4839-87bb-71d0d5ca7396",
   "metadata": {},
   "outputs": [],
   "source": [
    "mi_scores = Feature_Scores_Plot(trX2[:,:500],trY)"
   ]
  },
  {
   "cell_type": "code",
   "execution_count": null,
   "id": "7c5006af-8617-4066-b02e-4c8026ae3de6",
   "metadata": {},
   "outputs": [],
   "source": [
    "CreateConfusionMatrix(tsY,ypred,labels=list(sent_def.values()))"
   ]
  },
  {
   "cell_type": "code",
   "execution_count": null,
   "id": "d1805c02-ca7d-4331-b1eb-0fb3c074c9ef",
   "metadata": {},
   "outputs": [],
   "source": [
    "# Create Agent related visualizations\n",
    "trn_data,tst_data = perfdata\n",
    "all_policy_data,all_episode_data = epidata\n",
    "first_poli = all_policy_data[0]\n",
    "sec_poli = all_policy_data[1]\n",
    "third_poli = all_policy_data[2]\n",
    "# \n",
    "first_poli2 = all_policy_data[3]\n",
    "sec_poli2 = all_policy_data[5]\n",
    "third_poli2 = all_policy_data[6]"
   ]
  },
  {
   "cell_type": "code",
   "execution_count": null,
   "id": "40ae8d36-615b-4508-a8ac-7679277302e9",
   "metadata": {},
   "outputs": [],
   "source": [
    "PerfOverTraining(trn_data,3)"
   ]
  },
  {
   "cell_type": "code",
   "execution_count": null,
   "id": "cf15a5d0-b41f-4b35-8c09-b43095b30053",
   "metadata": {},
   "outputs": [],
   "source": [
    "print('Assigned Sentiments [2,2,2]')\n",
    "AgentPredictionPerEmployee(first_poli[0][0],['Neg.','Neutral','Pos.'])\n",
    "AgentPredictionPerEmployee(sec_poli[0][0],['Neg.','Neutral','Pos.'])\n",
    "AgentPredictionPerEmployee(third_poli[0][0],['Neg.','Neutral','Pos.'])"
   ]
  },
  {
   "cell_type": "code",
   "execution_count": null,
   "id": "27da4510-04b7-454d-9134-485ef7dc90d2",
   "metadata": {},
   "outputs": [],
   "source": [
    "print('Assigned Sentiments [0,2,2]')\n",
    "AgentPredictionPerEmployee(first_poli2[0][0],['Neg.','Neutral','Pos.'])\n",
    "AgentPredictionPerEmployee(sec_poli2[0][0],['Neg.','Neutral','Pos.'])\n",
    "AgentPredictionPerEmployee(third_poli2[0][0],['Neg.','Neutral','Pos.'])"
   ]
  },
  {
   "cell_type": "code",
   "execution_count": null,
   "id": "7da79b04-bd35-4be7-a854-55f98ad1bc57",
   "metadata": {},
   "outputs": [],
   "source": [
    "NumEmployees = 3\n",
    "compviz = CompanyViz(NumEmployees)"
   ]
  },
  {
   "cell_type": "code",
   "execution_count": null,
   "id": "57443322-1c8d-411c-a2fb-14507922eeb6",
   "metadata": {},
   "outputs": [],
   "source": [
    "# Note: The current data has 50 episodes to choose from at 7 different moments in the training process\n",
    "recombine_data = compviz.EpiSeqPackaging(all_policy_data,all_episode_data,3,22)"
   ]
  },
  {
   "cell_type": "code",
   "execution_count": null,
   "id": "4fc76dea-950a-4947-8908-635de0183848",
   "metadata": {},
   "outputs": [],
   "source": [
    "compviz.episode_sequence(recombine_data)"
   ]
  },
  {
   "cell_type": "code",
   "execution_count": null,
   "id": "a51a5f2b-4fce-4293-98ee-243bcb52ff09",
   "metadata": {},
   "outputs": [],
   "source": []
  }
 ],
 "metadata": {
  "kernelspec": {
   "display_name": "Python 3 (ipykernel)",
   "language": "python",
   "name": "python3"
  },
  "language_info": {
   "codemirror_mode": {
    "name": "ipython",
    "version": 3
   },
   "file_extension": ".py",
   "mimetype": "text/x-python",
   "name": "python",
   "nbconvert_exporter": "python",
   "pygments_lexer": "ipython3",
   "version": "3.11.3"
  }
 },
 "nbformat": 4,
 "nbformat_minor": 5
}
